{
 "cells": [
  {
   "cell_type": "code",
   "execution_count": null,
   "metadata": {},
   "outputs": [],
   "source": [
    "%matplotlib inline\n",
    "import itertools\n",
    "import numpy as np\n",
    "import matplotlib.pyplot as plt\n",
    "\n",
    "from sklearn import svm, datasets\n",
    "from sklearn.model_selection import train_test_split\n",
    "from sklearn.metrics import confusion_matrix\n",
    "import seaborn as sn\n",
    "import pandas as pd"
   ]
  },
  {
   "cell_type": "code",
   "execution_count": null,
   "metadata": {},
   "outputs": [],
   "source": [
    "Targets=['articulated_truck', 'background', 'bicycle', 'bus','car','motorcycle','non-motorized_Vehicle', 'pedestrian','pickup_truck', 'single_unit_truck', 'work_van']\n"
   ]
  },
  {
   "cell_type": "code",
   "execution_count": null,
   "metadata": {},
   "outputs": [],
   "source": [
    "def plot_cm(cm, indx, colomn):\n",
    "    accuracy= np.trace(cm)/ float(np.sum(cm))\n",
    "    misclasses= 1- accuracy\n",
    "    df_cm = pd.DataFrame(cm, index = [i for i in indx],columns = [i for i in colomn])\n",
    "                  \n",
    "    plt.figure(figsize = (10,10))\n",
    "    sn.set(font_scale=1)#for label size\n",
    "    sn.heatmap(df_cm, annot=True,annot_kws={\"size\": 10})# font size\n",
    "    plt.title(\"Confusion Matrix\")\n",
    "    plt.ylabel('True label')\n",
    "    plt.xlabel('Predicted label\\naccuracy={:0.4f}; misclass={:0.4f}'.format(accuracy, misclasses))\n",
    "\n",
    "    \n",
    "cnf_matrix = confusion_matrix(y_test, p_svm)\n",
    "\n",
    "plot_cm(cnf_matrix,Targets, Targets)\n",
    "\n",
    "\n",
    "cnf_matrix2 = confusion_matrix(y_test, p)\n",
    "\n",
    "plot_cm(cnf_matrix2, Targets,Targets)"
   ]
  }
 ],
 "metadata": {
  "kernelspec": {
   "display_name": "Python 3",
   "language": "python",
   "name": "python3"
  },
  "language_info": {
   "codemirror_mode": {
    "name": "ipython",
    "version": 3
   },
   "file_extension": ".py",
   "mimetype": "text/x-python",
   "name": "python",
   "nbconvert_exporter": "python",
   "pygments_lexer": "ipython3",
   "version": "3.5.6"
  }
 },
 "nbformat": 4,
 "nbformat_minor": 2
}

{
 "cells": [
  {
   "cell_type": "code",
   "execution_count": null,
   "metadata": {},
   "outputs": [],
   "source": [
    "from sklearn.metrics import precision_score as precision\n",
    "from sklearn.metrics import recall_score as recall\n",
    "from sklearn.metrics import precision_recall_curve"
   ]
  },
  {
   "cell_type": "code",
   "execution_count": null,
   "metadata": {},
   "outputs": [],
   "source": [
    "# precision for each fold\n",
    "# 1 is the best value and 0 is the worst value\n",
    "precision = (tp / tp + fp)\n",
    "# or use sklearn function and output average instead of list\n",
    "precision = precision(y_true, y_pred, average = 'weighted')\n",
    "\n",
    "# recall for each fold\n",
    "# 1 is the best value and 0 is the worst value\n",
    "recall = (tp / tp + fn)\n",
    "# or use sklearn function output average instead of list\n",
    "recall = recall(y_true, y_pred, average = 'weighted')\n",
    "\n",
    "# we can also calculate the F1 score for each fold\n",
    "# 1 is the best value and 0 is the worst value\n",
    "F1 = 2*(precision*recall)/(precision+recall)\n",
    "\n",
    "# iterate through k-folds and find average precision and recall for each k-fold\n",
    "tot_prec = 0\n",
    "tot_rec = 0\n",
    "for k in range(k):\n",
    "    precision = precision(y_true, y_pred, average = 'weighted')\n",
    "    recall = recall(y_true, y_pred, average = 'weighted')\n",
    "    tot_prec = tot_prec + precision\n",
    "    tot_rec = tot_rec + recall\n",
    "# calculate average precision and recall across all k-folds\n",
    "avg_precision = tot_prec/k\n",
    "avg_recall = tot_rec/k\n",
    "F1 = 2*(avg_precision*avg_recall)/(avg_precision+avg_recall)"
   ]
  }
 ],
 "metadata": {
  "kernelspec": {
   "display_name": "Python 3",
   "language": "python",
   "name": "python3"
  },
  "language_info": {
   "codemirror_mode": {
    "name": "ipython",
    "version": 3
   },
   "file_extension": ".py",
   "mimetype": "text/x-python",
   "name": "python",
   "nbconvert_exporter": "python",
   "pygments_lexer": "ipython3",
   "version": "3.7.0"
  }
 },
 "nbformat": 4,
 "nbformat_minor": 2
}

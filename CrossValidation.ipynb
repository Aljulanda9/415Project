{
 "cells": [
  {
   "cell_type": "code",
   "execution_count": null,
   "metadata": {},
   "outputs": [],
   "source": [
    "import cv2\n",
    "import numpy as np\n",
    "import matplotlib.pyplot as plt\n",
    "from sklearn.model_selection import cross_val_score\n",
    "from sklearn.metrics import accuracy_score, recall_score, precision_score\n",
    "from sklearn.model_selection import KFold"
   ]
  },
  {
   "cell_type": "code",
   "execution_count": null,
   "metadata": {},
   "outputs": [],
   "source": [
    "K = 10\n",
    "kfold = KFold(K,True,1)\n",
    "tot_accuracy = []\n",
    "tot_precision = []\n",
    "tot_recall = []\n",
    "for train, test in kfold.split(train_images, labels):\n",
    "    # insert localization code\n",
    "\n",
    "\n",
    "    accuracy = accuracy_score(predictions, labels, average = \"micro\")\n",
    "    precision = precision_score(predictions, labels, average = \"micro\")\n",
    "    recall = recall_score(predictions, labels, average = \"micro\")\n",
    "    tot_accuracy.append(accuracy)\n",
    "    tot_precision.append(precision)\n",
    "    tot_recall.append(recall) \n",
    "\n",
    "# find average accuracy, precision, recall \n",
    "avg_accuracy = np.mean(tot_accuracy)\n",
    "avg_precision = np.mean(tot_precision)\n",
    "avg_recall = np.mean(tot_recall) \n"
   ]
  }
 ],
 "metadata": {
  "kernelspec": {
   "display_name": "Python 3",
   "language": "python",
   "name": "python3"
  },
  "language_info": {
   "codemirror_mode": {
    "name": "ipython",
    "version": 3
   },
   "file_extension": ".py",
   "mimetype": "text/x-python",
   "name": "python",
   "nbconvert_exporter": "python",
   "pygments_lexer": "ipython3",
   "version": "3.6.5"
  }
 },
 "nbformat": 4,
 "nbformat_minor": 2
}
